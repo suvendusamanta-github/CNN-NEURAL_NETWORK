{
  "nbformat": 4,
  "nbformat_minor": 0,
  "metadata": {
    "colab": {
      "provenance": [],
      "mount_file_id": "1CzSGL7xAn614BDiYxrKOLMMj5TAbmgOS",
      "authorship_tag": "ABX9TyOva1/u9DpNVntp6Afrx2/n",
      "include_colab_link": true
    },
    "kernelspec": {
      "name": "python3",
      "display_name": "Python 3"
    },
    "language_info": {
      "name": "python"
    }
  },
  "cells": [
    {
      "cell_type": "markdown",
      "metadata": {
        "id": "view-in-github",
        "colab_type": "text"
      },
      "source": [
        "<a href=\"https://colab.research.google.com/github/suvendusamanta-github/CNN-NEURAL_NETWORK/blob/main/efficientnet_B0.ipynb\" target=\"_parent\"><img src=\"https://colab.research.google.com/assets/colab-badge.svg\" alt=\"Open In Colab\"/></a>"
      ]
    },
    {
      "cell_type": "code",
      "execution_count": 1,
      "metadata": {
        "id": "GWldNd7oWcmZ"
      },
      "outputs": [],
      "source": [
        "import tensorflow as tf\n",
        "import matplotlib.pyplot as plt\n",
        "import numpy as np\n",
        "from google.colab import drive\n",
        "import os\n",
        "from tensorflow.keras.preprocessing.image import ImageDataGenerator\n"
      ]
    },
    {
      "cell_type": "code",
      "source": [
        "dataset_path='/content/drive/MyDrive/maindataset'\n",
        "IMG_SIZE=224\n",
        "BATCH_SIZE=32\n"
      ],
      "metadata": {
        "id": "RUwsfQjfWwjB"
      },
      "execution_count": 2,
      "outputs": []
    },
    {
      "cell_type": "code",
      "source": [
        "datagen = ImageDataGenerator(rescale=1./255, validation_split=0.2)\n",
        "\n",
        "train_gen = datagen.flow_from_directory(\n",
        "    dataset_path,\n",
        "    target_size=(IMG_SIZE, IMG_SIZE),\n",
        "    batch_size=32,\n",
        "    class_mode='sparse',\n",
        "    subset='training'\n",
        ")\n",
        "\n",
        "val_gen = datagen.flow_from_directory(\n",
        "    dataset_path,\n",
        "    target_size=(IMG_SIZE, IMG_SIZE),\n",
        "    batch_size=32,\n",
        "    class_mode='sparse',\n",
        "    subset='validation'\n",
        ")"
      ],
      "metadata": {
        "colab": {
          "base_uri": "https://localhost:8080/"
        },
        "id": "jfFJtaKjXDB_",
        "outputId": "d94a998c-a802-4ca9-f0bb-ee944c89b4de"
      },
      "execution_count": 3,
      "outputs": [
        {
          "output_type": "stream",
          "name": "stdout",
          "text": [
            "Found 21755 images belonging to 1 classes.\n",
            "Found 5438 images belonging to 1 classes.\n"
          ]
        }
      ]
    },
    {
      "cell_type": "code",
      "source": [
        "from tensorflow.keras import layers, models, regularizers\n",
        "from tensorflow.keras.applications import EfficientNetB0\n",
        "\n",
        "# Load the base model\n",
        "base_model = EfficientNetB0(input_shape=(IMG_SIZE, IMG_SIZE, 3), include_top=False, weights='imagenet')\n",
        "base_model.trainable = False\n",
        "\n",
        "# Build the model\n",
        "model = models.Sequential([\n",
        "    base_model,\n",
        "    layers.GlobalAveragePooling2D(),\n",
        "\n",
        "    layers.Dense(128, kernel_regularizer=regularizers.l2(0.01)),\n",
        "    layers.BatchNormalization(),\n",
        "    layers.Activation('relu'),\n",
        "    layers.Dropout(0.4),\n",
        "\n",
        "    layers.Dense(128, kernel_regularizer=regularizers.l2(0.01)),\n",
        "    layers.BatchNormalization(),\n",
        "    layers.Activation('relu'),\n",
        "    layers.Dropout(0.4),\n",
        "\n",
        "    layers.Dense(64, kernel_regularizer=regularizers.l2(0.01)),\n",
        "    layers.BatchNormalization(),\n",
        "    layers.Activation('relu'),\n",
        "    layers.Dropout(0.4),\n",
        "\n",
        "    layers.Dense(100, activation='softmax')  # Adjust this based on your dataset's number of classes\n",
        "])\n"
      ],
      "metadata": {
        "id": "ki5djoYmXTQR",
        "colab": {
          "base_uri": "https://localhost:8080/"
        },
        "outputId": "8e9596b0-a82e-4077-a0ff-bfa260bae613"
      },
      "execution_count": 4,
      "outputs": [
        {
          "output_type": "stream",
          "name": "stdout",
          "text": [
            "Downloading data from https://storage.googleapis.com/keras-applications/efficientnetb0_notop.h5\n",
            "16705208/16705208 [==============================] - 0s 0us/step\n"
          ]
        }
      ]
    },
    {
      "cell_type": "code",
      "source": [
        "model.compile(optimizer='adam',\n",
        "              loss='sparse_categorical_crossentropy',\n",
        "              metrics=['accuracy'])"
      ],
      "metadata": {
        "id": "Uid4tZm1aYhS"
      },
      "execution_count": 5,
      "outputs": []
    },
    {
      "cell_type": "code",
      "source": [
        "\n",
        "history = model.fit(train_gen, validation_data=val_gen, epochs=5)"
      ],
      "metadata": {
        "colab": {
          "base_uri": "https://localhost:8080/"
        },
        "id": "UiZQEhyHaE8w",
        "outputId": "10c4dc5a-cc17-4eab-888c-012418659fcd"
      },
      "execution_count": 6,
      "outputs": [
        {
          "output_type": "stream",
          "name": "stdout",
          "text": [
            "Epoch 1/5\n",
            "680/680 [==============================] - 7964s 12s/step - loss: 1.3849 - accuracy: 0.9561 - val_loss: 0.0859 - val_accuracy: 1.0000\n",
            "Epoch 2/5\n",
            "680/680 [==============================] - 2456s 4s/step - loss: 0.0315 - accuracy: 1.0000 - val_loss: 0.0150 - val_accuracy: 1.0000\n",
            "Epoch 3/5\n",
            "680/680 [==============================] - 2326s 3s/step - loss: 0.0083 - accuracy: 1.0000 - val_loss: 0.0034 - val_accuracy: 1.0000\n",
            "Epoch 4/5\n",
            "680/680 [==============================] - 2427s 4s/step - loss: 0.0138 - accuracy: 1.0000 - val_loss: 0.0710 - val_accuracy: 1.0000\n",
            "Epoch 5/5\n",
            "680/680 [==============================] - 2482s 4s/step - loss: 0.0118 - accuracy: 1.0000 - val_loss: 0.0021 - val_accuracy: 1.0000\n"
          ]
        }
      ]
    },
    {
      "cell_type": "code",
      "source": [
        "loss, accuracy = model.evaluate(val_gen)\n",
        "print(f'Validation accuracy: {accuracy*100:.2f}%')\n",
        ""
      ],
      "metadata": {
        "colab": {
          "base_uri": "https://localhost:8080/"
        },
        "id": "hyqzkqkDVIQS",
        "outputId": "d2df7ab0-81a6-4e5e-af8f-dfb7fe5e1330"
      },
      "execution_count": 7,
      "outputs": [
        {
          "output_type": "stream",
          "name": "stdout",
          "text": [
            "170/170 [==============================] - 490s 3s/step - loss: 0.0021 - accuracy: 1.0000\n",
            "Validation accuracy: 100.00%\n"
          ]
        }
      ]
    }
  ]
}